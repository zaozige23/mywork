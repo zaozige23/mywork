import numpy as np
import pandas as pd
from pandas import Series, DataFrame
df = DataFrame(data={
    "name":["lucy","tom","jack","tony","mery","rose","black"],
    "python":np.random.randint(0,100,size=(7)),
    "java":np.random.randint(0,100,size=7),
    "php":np.random.randint(0,100,size=7)
})
df
